{
 "cells": [
  {
   "cell_type": "code",
   "execution_count": 54,
   "metadata": {},
   "outputs": [],
   "source": [
    "import pandas as pd\n",
    "import numpy as np\n",
    "from sklearn.model_selection import train_test_split, KFold\n",
    "from sklearn.linear_model import LinearRegression\n",
    "from sklearn.linear_model import Ridge\n",
    "from sklearn.linear_model import Lasso\n",
    "from sklearn.tree import DecisionTreeRegressor\n",
    "from sklearn.neighbors import KNeighborsRegressor\n",
    "from sklearn.metrics import mean_squared_error\n",
    "from sklearn.metrics import r2_score\n",
    "\n",
    "# Load the provided dataset file\n",
    "plantdata = pd.read_csv(\"/home/jovyan/work/CCPP_data.csv\")"
   ]
  },
  {
   "cell_type": "markdown",
   "metadata": {},
   "source": [
    "# Split Dataset\n",
    "\n",
    "We'll split our dataset into training and test dataset.\n"
   ]
  },
  {
   "cell_type": "code",
   "execution_count": 55,
   "metadata": {},
   "outputs": [],
   "source": [
    "# Create dataframes that represent subsets of the data using train_test_split() from scikit-learn.\n",
    "# We'll use 20% of data for test and 80% for training\n",
    "# x_train and x_test contain the features for training and testing, respectively\n",
    "# y_train and y_test contain the targets for training and testing, respectively\n",
    "\n",
    "x_train, x_test, y_train, y_test = train_test_split(plantdata.iloc[:, :-1], plantdata.iloc[:, -1], test_size=0.2, random_state=42)"
   ]
  },
  {
   "cell_type": "markdown",
   "metadata": {},
   "source": [
    "We'll further create validation subsets using k-folds validation with 5 folds. We use 5 folds as 10 folds might lead to our validation sets being too small."
   ]
  },
  {
   "cell_type": "code",
   "execution_count": 56,
   "metadata": {},
   "outputs": [],
   "source": [
    "# Create validation datasets using KFold() from scikit-learn\n",
    "\n",
    "kf = KFold(n_splits = 5, shuffle = True, random_state = 42)\n",
    "kf_split = kf.split(x_train)\n"
   ]
  },
  {
   "cell_type": "code",
   "execution_count": 57,
   "metadata": {},
   "outputs": [],
   "source": [
    "# Set the algorithm we want to use\n",
    "\n",
    "#model = LinearRegression()\n",
    "#model = Ridge(alpha = 1)\n",
    "#model = Lasso(alpha = 0.1)\n",
    "#model = DecisionTreeRegressor(max_depth = 5)\n",
    "model = KNeighborsRegressor(n_neighbors = 5)"
   ]
  },
  {
   "cell_type": "code",
   "execution_count": 58,
   "metadata": {},
   "outputs": [
    {
     "name": "stdout",
     "output_type": "stream",
     "text": [
      "Cross-validation scores: [17.819981047681257, 17.150133123448718, 16.194120394513387, 16.710883639451332, 15.15479213071895]\n",
      "Mean score: 16.60598206716273\n",
      "Standard deviation: 0.9007197683696093\n"
     ]
    }
   ],
   "source": [
    "# Variables to store scores for each algorithm\n",
    "scores = []\n",
    "\n",
    "# Loop over the splits and train/validate the model\n",
    "for train_index, val_index in kf_split:\n",
    "    # Split the data into training and validation sets\n",
    "    x_train_kf, x_val_kf = x_train.iloc[train_index], x_train.iloc[val_index]\n",
    "    y_train_kf, y_val_kf = y_train.iloc[train_index], y_train.iloc[val_index]\n",
    "    \n",
    "    # Train the model on the training set\n",
    "    model.fit(x_train_kf, y_train_kf)\n",
    "    \n",
    "    # Use the model to make predictions on the validation set\n",
    "    y_pred_kf = model.predict(x_val_kf)\n",
    "    \n",
    "    # Calculate the MSE of the model on the validation set\n",
    "    mse_kf = mean_squared_error(y_val_kf, y_pred_kf)\n",
    "    \n",
    "    scores.append(mse_kf)\n",
    "    \n",
    "mean_score = np.mean(scores)\n",
    "std_score = np.std(scores)\n",
    "\n",
    "print(\"Cross-validation scores:\", scores)\n",
    "print(\"Mean score:\", mean_score)\n",
    "print(\"Standard deviation:\", std_score)\n"
   ]
  },
  {
   "cell_type": "markdown",
   "metadata": {},
   "source": [
    "# Linear Regression\n",
    "* Cross-validation scores: [22.33135825513286, 20.860235027955216, 20.40537789025917, 20.699403779044097, 20.256578600396626]\n",
    "* Mean score: 20.910590710557592\n",
    "* Standard deviation: 0.7414428992932569"
   ]
  },
  {
   "cell_type": "markdown",
   "metadata": {},
   "source": [
    "# Ridge\n",
    "* Cross-validation scores: [22.331341945676346, 20.860222907851586, 20.405359706193746, 20.699425056468446, 20.256602262761056]\n",
    "* Mean score: 20.910590375790235\n",
    "* Standard deviation: 0.7414339051768616"
   ]
  },
  {
   "cell_type": "markdown",
   "metadata": {},
   "source": [
    "# Lasso\n",
    "* Cross-validation scores: [22.32239067435148, 20.86379882951596, 20.40372051725932, 20.70803349443667, 20.257989751568772]\n",
    "* Mean score: 20.911186653426437\n",
    "* Standard deviation: 0.7374553101700931"
   ]
  },
  {
   "cell_type": "markdown",
   "metadata": {},
   "source": [
    "# Decision Tree\n",
    "* Cross-validation scores: [21.260240277154487, 19.95409736645763, 19.485747548126994, 20.784516374365207, 19.025468003972463]\n",
    "* Mean score: 20.102013914015355\n",
    "* Standard deviation: 0.8207207261731391"
   ]
  },
  {
   "cell_type": "markdown",
   "metadata": {},
   "source": [
    "# K Nearest Neighbors\n",
    "* Cross-validation scores: [17.819981047681257, 17.150133123448718, 16.194120394513387, 16.710883639451332, 15.15479213071895]\n",
    "* Mean score: 16.60598206716273\n",
    "* Standard deviation: 0.9007197683696093"
   ]
  },
  {
   "cell_type": "markdown",
   "metadata": {},
   "source": [
    "# Evaluate Selected Model\n",
    "Based on the validation data the K Nearest Neighbors algorithm had the best performance (lowest MSE)\n",
    "\n",
    "Now we evaluate that model against the test data."
   ]
  },
  {
   "cell_type": "code",
   "execution_count": 59,
   "metadata": {},
   "outputs": [
    {
     "name": "stdout",
     "output_type": "stream",
     "text": [
      "MSE: 15.878969475444094\n",
      "r-squared: 0.9452558778755287\n"
     ]
    }
   ],
   "source": [
    "# Use the model to make predictions on the TEST set\n",
    "y_pred_test = model.predict(x_test)\n",
    "\n",
    "# Calculate the MSE of the model on the validation set\n",
    "mse_test = mean_squared_error(y_test, y_pred_test)\n",
    "r_squared = r2_score(y_test, y_pred_test)\n",
    "\n",
    "print(\"MSE:\", mse_test)\n",
    "print(\"r-squared:\", r_squared)"
   ]
  }
 ],
 "metadata": {
  "celltoolbar": "Raw Cell Format",
  "kernelspec": {
   "display_name": "Python 3",
   "language": "python",
   "name": "python3"
  },
  "language_info": {
   "codemirror_mode": {
    "name": "ipython",
    "version": 3
   },
   "file_extension": ".py",
   "mimetype": "text/x-python",
   "name": "python",
   "nbconvert_exporter": "python",
   "pygments_lexer": "ipython3",
   "version": "3.7.6"
  }
 },
 "nbformat": 4,
 "nbformat_minor": 4
}
